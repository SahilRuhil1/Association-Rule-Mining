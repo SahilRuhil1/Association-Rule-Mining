{
 "cells": [
  {
   "cell_type": "markdown",
   "id": "d373e5c3",
   "metadata": {},
   "source": [
    "# Data Preprocessing:"
   ]
  },
  {
   "cell_type": "code",
   "execution_count": 1,
   "id": "f8d1fb44",
   "metadata": {},
   "outputs": [
    {
     "name": "stdout",
     "output_type": "stream",
     "text": [
      "Defaulting to user installation because normal site-packages is not writeable\n",
      "Requirement already satisfied: mlxtend in c:\\users\\sahil\\appdata\\roaming\\python\\python311\\site-packages (0.23.1)\n",
      "Requirement already satisfied: scipy>=1.2.1 in c:\\programdata\\anaconda3\\lib\\site-packages (from mlxtend) (1.11.1)\n",
      "Requirement already satisfied: numpy>=1.16.2 in c:\\programdata\\anaconda3\\lib\\site-packages (from mlxtend) (1.24.3)\n",
      "Requirement already satisfied: pandas>=0.24.2 in c:\\programdata\\anaconda3\\lib\\site-packages (from mlxtend) (2.0.3)\n",
      "Requirement already satisfied: scikit-learn>=1.0.2 in c:\\users\\sahil\\appdata\\roaming\\python\\python311\\site-packages (from mlxtend) (1.5.2)\n",
      "Requirement already satisfied: matplotlib>=3.0.0 in c:\\programdata\\anaconda3\\lib\\site-packages (from mlxtend) (3.7.2)\n",
      "Requirement already satisfied: joblib>=0.13.2 in c:\\programdata\\anaconda3\\lib\\site-packages (from mlxtend) (1.2.0)\n",
      "Requirement already satisfied: contourpy>=1.0.1 in c:\\programdata\\anaconda3\\lib\\site-packages (from matplotlib>=3.0.0->mlxtend) (1.0.5)\n",
      "Requirement already satisfied: cycler>=0.10 in c:\\programdata\\anaconda3\\lib\\site-packages (from matplotlib>=3.0.0->mlxtend) (0.11.0)\n",
      "Requirement already satisfied: fonttools>=4.22.0 in c:\\programdata\\anaconda3\\lib\\site-packages (from matplotlib>=3.0.0->mlxtend) (4.25.0)\n",
      "Requirement already satisfied: kiwisolver>=1.0.1 in c:\\programdata\\anaconda3\\lib\\site-packages (from matplotlib>=3.0.0->mlxtend) (1.4.4)\n",
      "Requirement already satisfied: packaging>=20.0 in c:\\programdata\\anaconda3\\lib\\site-packages (from matplotlib>=3.0.0->mlxtend) (23.1)\n",
      "Requirement already satisfied: pillow>=6.2.0 in c:\\programdata\\anaconda3\\lib\\site-packages (from matplotlib>=3.0.0->mlxtend) (9.4.0)\n",
      "Requirement already satisfied: pyparsing<3.1,>=2.3.1 in c:\\programdata\\anaconda3\\lib\\site-packages (from matplotlib>=3.0.0->mlxtend) (3.0.9)\n",
      "Requirement already satisfied: python-dateutil>=2.7 in c:\\programdata\\anaconda3\\lib\\site-packages (from matplotlib>=3.0.0->mlxtend) (2.8.2)\n",
      "Requirement already satisfied: pytz>=2020.1 in c:\\programdata\\anaconda3\\lib\\site-packages (from pandas>=0.24.2->mlxtend) (2023.3.post1)\n",
      "Requirement already satisfied: tzdata>=2022.1 in c:\\programdata\\anaconda3\\lib\\site-packages (from pandas>=0.24.2->mlxtend) (2023.3)\n",
      "Requirement already satisfied: threadpoolctl>=3.1.0 in c:\\users\\sahil\\appdata\\roaming\\python\\python311\\site-packages (from scikit-learn>=1.0.2->mlxtend) (3.5.0)\n",
      "Requirement already satisfied: six>=1.5 in c:\\programdata\\anaconda3\\lib\\site-packages (from python-dateutil>=2.7->matplotlib>=3.0.0->mlxtend) (1.16.0)\n"
     ]
    }
   ],
   "source": [
    "# Installing MLxtend library\n",
    "\n",
    "!pip install mlxtend\n"
   ]
  },
  {
   "cell_type": "code",
   "execution_count": 2,
   "id": "cfc99dde",
   "metadata": {},
   "outputs": [],
   "source": [
    "# Importing required libraries\n",
    "\n",
    "import pandas as pd\n",
    "from mlxtend.frequent_patterns import apriori, association_rules\n",
    "from mlxtend.preprocessing import TransactionEncoder"
   ]
  },
  {
   "cell_type": "code",
   "execution_count": 3,
   "id": "530df219",
   "metadata": {},
   "outputs": [
    {
     "name": "stdout",
     "output_type": "stream",
     "text": [
      "['Sheet1']\n"
     ]
    }
   ],
   "source": [
    "xls = pd.ExcelFile(r\"C:\\\\Users\\\\sahil\\\\Desktop\\\\excelr data science\\\\Assignments\\\\Association Rules\\\\Online_retail.xlsx\")\n",
    "print(xls.sheet_names)"
   ]
  },
  {
   "cell_type": "code",
   "execution_count": 4,
   "id": "326d4ce0",
   "metadata": {},
   "outputs": [],
   "source": [
    "# Reading the dataset\n",
    "\n",
    "df = pd.read_excel(r\"C:\\\\Users\\\\sahil\\\\Desktop\\\\excelr data science\\\\Assignments\\\\Association Rules\\\\Online_retail.xlsx\", sheet_name ='Sheet1')"
   ]
  },
  {
   "cell_type": "code",
   "execution_count": 5,
   "id": "ebb60747",
   "metadata": {},
   "outputs": [
    {
     "data": {
      "text/html": [
       "<div>\n",
       "<style scoped>\n",
       "    .dataframe tbody tr th:only-of-type {\n",
       "        vertical-align: middle;\n",
       "    }\n",
       "\n",
       "    .dataframe tbody tr th {\n",
       "        vertical-align: top;\n",
       "    }\n",
       "\n",
       "    .dataframe thead th {\n",
       "        text-align: right;\n",
       "    }\n",
       "</style>\n",
       "<table border=\"1\" class=\"dataframe\">\n",
       "  <thead>\n",
       "    <tr style=\"text-align: right;\">\n",
       "      <th></th>\n",
       "      <th>shrimp,almonds,avocado,vegetables mix,green grapes,whole weat flour,yams,cottage cheese,energy drink,tomato juice,low fat yogurt,green tea,honey,salad,mineral water,salmon,antioxydant juice,frozen smoothie,spinach,olive oil</th>\n",
       "    </tr>\n",
       "  </thead>\n",
       "  <tbody>\n",
       "    <tr>\n",
       "      <th>0</th>\n",
       "      <td>burgers,meatballs,eggs</td>\n",
       "    </tr>\n",
       "    <tr>\n",
       "      <th>1</th>\n",
       "      <td>chutney</td>\n",
       "    </tr>\n",
       "    <tr>\n",
       "      <th>2</th>\n",
       "      <td>turkey,avocado</td>\n",
       "    </tr>\n",
       "    <tr>\n",
       "      <th>3</th>\n",
       "      <td>mineral water,milk,energy bar,whole wheat rice...</td>\n",
       "    </tr>\n",
       "    <tr>\n",
       "      <th>4</th>\n",
       "      <td>low fat yogurt</td>\n",
       "    </tr>\n",
       "  </tbody>\n",
       "</table>\n",
       "</div>"
      ],
      "text/plain": [
       "  shrimp,almonds,avocado,vegetables mix,green grapes,whole weat flour,yams,cottage cheese,energy drink,tomato juice,low fat yogurt,green tea,honey,salad,mineral water,salmon,antioxydant juice,frozen smoothie,spinach,olive oil\n",
       "0                             burgers,meatballs,eggs                                                                                                                                                                             \n",
       "1                                            chutney                                                                                                                                                                             \n",
       "2                                     turkey,avocado                                                                                                                                                                             \n",
       "3  mineral water,milk,energy bar,whole wheat rice...                                                                                                                                                                             \n",
       "4                                     low fat yogurt                                                                                                                                                                             "
      ]
     },
     "execution_count": 5,
     "metadata": {},
     "output_type": "execute_result"
    }
   ],
   "source": [
    "df.head()"
   ]
  },
  {
   "cell_type": "code",
   "execution_count": 6,
   "id": "1e92f316",
   "metadata": {},
   "outputs": [
    {
     "data": {
      "text/html": [
       "<div>\n",
       "<style scoped>\n",
       "    .dataframe tbody tr th:only-of-type {\n",
       "        vertical-align: middle;\n",
       "    }\n",
       "\n",
       "    .dataframe tbody tr th {\n",
       "        vertical-align: top;\n",
       "    }\n",
       "\n",
       "    .dataframe thead th {\n",
       "        text-align: right;\n",
       "    }\n",
       "</style>\n",
       "<table border=\"1\" class=\"dataframe\">\n",
       "  <thead>\n",
       "    <tr style=\"text-align: right;\">\n",
       "      <th></th>\n",
       "      <th>shrimp,almonds,avocado,vegetables mix,green grapes,whole weat flour,yams,cottage cheese,energy drink,tomato juice,low fat yogurt,green tea,honey,salad,mineral water,salmon,antioxydant juice,frozen smoothie,spinach,olive oil</th>\n",
       "    </tr>\n",
       "  </thead>\n",
       "  <tbody>\n",
       "    <tr>\n",
       "      <th>7495</th>\n",
       "      <td>butter,light mayo,fresh bread</td>\n",
       "    </tr>\n",
       "    <tr>\n",
       "      <th>7496</th>\n",
       "      <td>burgers,frozen vegetables,eggs,french fries,ma...</td>\n",
       "    </tr>\n",
       "    <tr>\n",
       "      <th>7497</th>\n",
       "      <td>chicken</td>\n",
       "    </tr>\n",
       "    <tr>\n",
       "      <th>7498</th>\n",
       "      <td>escalope,green tea</td>\n",
       "    </tr>\n",
       "    <tr>\n",
       "      <th>7499</th>\n",
       "      <td>eggs,frozen smoothie,yogurt cake,low fat yogurt</td>\n",
       "    </tr>\n",
       "  </tbody>\n",
       "</table>\n",
       "</div>"
      ],
      "text/plain": [
       "     shrimp,almonds,avocado,vegetables mix,green grapes,whole weat flour,yams,cottage cheese,energy drink,tomato juice,low fat yogurt,green tea,honey,salad,mineral water,salmon,antioxydant juice,frozen smoothie,spinach,olive oil\n",
       "7495                      butter,light mayo,fresh bread                                                                                                                                                                             \n",
       "7496  burgers,frozen vegetables,eggs,french fries,ma...                                                                                                                                                                             \n",
       "7497                                            chicken                                                                                                                                                                             \n",
       "7498                                 escalope,green tea                                                                                                                                                                             \n",
       "7499    eggs,frozen smoothie,yogurt cake,low fat yogurt                                                                                                                                                                             "
      ]
     },
     "execution_count": 6,
     "metadata": {},
     "output_type": "execute_result"
    }
   ],
   "source": [
    "df.tail()"
   ]
  },
  {
   "cell_type": "code",
   "execution_count": 7,
   "id": "bcdac7a1",
   "metadata": {},
   "outputs": [
    {
     "name": "stdout",
     "output_type": "stream",
     "text": [
      "<class 'pandas.core.frame.DataFrame'>\n",
      "RangeIndex: 7500 entries, 0 to 7499\n",
      "Data columns (total 1 columns):\n",
      " #   Column                                                                                                                                                                                                                           Non-Null Count  Dtype \n",
      "---  ------                                                                                                                                                                                                                           --------------  ----- \n",
      " 0   shrimp,almonds,avocado,vegetables mix,green grapes,whole weat flour,yams,cottage cheese,energy drink,tomato juice,low fat yogurt,green tea,honey,salad,mineral water,salmon,antioxydant juice,frozen smoothie,spinach,olive oil  7500 non-null   object\n",
      "dtypes: object(1)\n",
      "memory usage: 58.7+ KB\n"
     ]
    }
   ],
   "source": [
    "df.info()"
   ]
  },
  {
   "cell_type": "code",
   "execution_count": 8,
   "id": "aad11401",
   "metadata": {},
   "outputs": [
    {
     "data": {
      "text/plain": [
       "shrimp,almonds,avocado,vegetables mix,green grapes,whole weat flour,yams,cottage cheese,energy drink,tomato juice,low fat yogurt,green tea,honey,salad,mineral water,salmon,antioxydant juice,frozen smoothie,spinach,olive oil    0\n",
       "dtype: int64"
      ]
     },
     "execution_count": 8,
     "metadata": {},
     "output_type": "execute_result"
    }
   ],
   "source": [
    "# Checking presence of null values\n",
    "\n",
    "df.isnull().sum()"
   ]
  },
  {
   "cell_type": "code",
   "execution_count": 9,
   "id": "8bdf6d16",
   "metadata": {},
   "outputs": [
    {
     "data": {
      "text/plain": [
       "2325"
      ]
     },
     "execution_count": 9,
     "metadata": {},
     "output_type": "execute_result"
    }
   ],
   "source": [
    "# Checking for duplicate values\n",
    "\n",
    "df.duplicated().sum()"
   ]
  },
  {
   "cell_type": "code",
   "execution_count": 10,
   "id": "85df6b85",
   "metadata": {},
   "outputs": [
    {
     "data": {
      "text/html": [
       "<div>\n",
       "<style scoped>\n",
       "    .dataframe tbody tr th:only-of-type {\n",
       "        vertical-align: middle;\n",
       "    }\n",
       "\n",
       "    .dataframe tbody tr th {\n",
       "        vertical-align: top;\n",
       "    }\n",
       "\n",
       "    .dataframe thead th {\n",
       "        text-align: right;\n",
       "    }\n",
       "</style>\n",
       "<table border=\"1\" class=\"dataframe\">\n",
       "  <thead>\n",
       "    <tr style=\"text-align: right;\">\n",
       "      <th></th>\n",
       "      <th>shrimp,almonds,avocado,vegetables mix,green grapes,whole weat flour,yams,cottage cheese,energy drink,tomato juice,low fat yogurt,green tea,honey,salad,mineral water,salmon,antioxydant juice,frozen smoothie,spinach,olive oil</th>\n",
       "    </tr>\n",
       "  </thead>\n",
       "  <tbody>\n",
       "    <tr>\n",
       "      <th>33</th>\n",
       "      <td>cookies</td>\n",
       "    </tr>\n",
       "    <tr>\n",
       "      <th>41</th>\n",
       "      <td>spaghetti</td>\n",
       "    </tr>\n",
       "    <tr>\n",
       "      <th>59</th>\n",
       "      <td>spaghetti</td>\n",
       "    </tr>\n",
       "    <tr>\n",
       "      <th>63</th>\n",
       "      <td>turkey,eggs</td>\n",
       "    </tr>\n",
       "    <tr>\n",
       "      <th>64</th>\n",
       "      <td>french fries</td>\n",
       "    </tr>\n",
       "    <tr>\n",
       "      <th>...</th>\n",
       "      <td>...</td>\n",
       "    </tr>\n",
       "    <tr>\n",
       "      <th>7490</th>\n",
       "      <td>herb &amp; pepper</td>\n",
       "    </tr>\n",
       "    <tr>\n",
       "      <th>7491</th>\n",
       "      <td>chocolate,escalope</td>\n",
       "    </tr>\n",
       "    <tr>\n",
       "      <th>7494</th>\n",
       "      <td>pancakes,light mayo</td>\n",
       "    </tr>\n",
       "    <tr>\n",
       "      <th>7497</th>\n",
       "      <td>chicken</td>\n",
       "    </tr>\n",
       "    <tr>\n",
       "      <th>7498</th>\n",
       "      <td>escalope,green tea</td>\n",
       "    </tr>\n",
       "  </tbody>\n",
       "</table>\n",
       "<p>2325 rows × 1 columns</p>\n",
       "</div>"
      ],
      "text/plain": [
       "     shrimp,almonds,avocado,vegetables mix,green grapes,whole weat flour,yams,cottage cheese,energy drink,tomato juice,low fat yogurt,green tea,honey,salad,mineral water,salmon,antioxydant juice,frozen smoothie,spinach,olive oil\n",
       "33                                              cookies                                                                                                                                                                             \n",
       "41                                            spaghetti                                                                                                                                                                             \n",
       "59                                            spaghetti                                                                                                                                                                             \n",
       "63                                          turkey,eggs                                                                                                                                                                             \n",
       "64                                         french fries                                                                                                                                                                             \n",
       "...                                                 ...                                                                                                                                                                             \n",
       "7490                                      herb & pepper                                                                                                                                                                             \n",
       "7491                                 chocolate,escalope                                                                                                                                                                             \n",
       "7494                                pancakes,light mayo                                                                                                                                                                             \n",
       "7497                                            chicken                                                                                                                                                                             \n",
       "7498                                 escalope,green tea                                                                                                                                                                             \n",
       "\n",
       "[2325 rows x 1 columns]"
      ]
     },
     "execution_count": 10,
     "metadata": {},
     "output_type": "execute_result"
    }
   ],
   "source": [
    "df[df.duplicated()]\n"
   ]
  },
  {
   "cell_type": "code",
   "execution_count": 11,
   "id": "2274c2a1",
   "metadata": {},
   "outputs": [
    {
     "data": {
      "text/html": [
       "<div>\n",
       "<style scoped>\n",
       "    .dataframe tbody tr th:only-of-type {\n",
       "        vertical-align: middle;\n",
       "    }\n",
       "\n",
       "    .dataframe tbody tr th {\n",
       "        vertical-align: top;\n",
       "    }\n",
       "\n",
       "    .dataframe thead th {\n",
       "        text-align: right;\n",
       "    }\n",
       "</style>\n",
       "<table border=\"1\" class=\"dataframe\">\n",
       "  <thead>\n",
       "    <tr style=\"text-align: right;\">\n",
       "      <th></th>\n",
       "      <th>shrimp,almonds,avocado,vegetables mix,green grapes,whole weat flour,yams,cottage cheese,energy drink,tomato juice,low fat yogurt,green tea,honey,salad,mineral water,salmon,antioxydant juice,frozen smoothie,spinach,olive oil</th>\n",
       "    </tr>\n",
       "  </thead>\n",
       "  <tbody>\n",
       "    <tr>\n",
       "      <th>0</th>\n",
       "      <td>burgers,meatballs,eggs</td>\n",
       "    </tr>\n",
       "    <tr>\n",
       "      <th>1</th>\n",
       "      <td>chutney</td>\n",
       "    </tr>\n",
       "    <tr>\n",
       "      <th>2</th>\n",
       "      <td>turkey,avocado</td>\n",
       "    </tr>\n",
       "    <tr>\n",
       "      <th>3</th>\n",
       "      <td>mineral water,milk,energy bar,whole wheat rice...</td>\n",
       "    </tr>\n",
       "    <tr>\n",
       "      <th>4</th>\n",
       "      <td>low fat yogurt</td>\n",
       "    </tr>\n",
       "    <tr>\n",
       "      <th>...</th>\n",
       "      <td>...</td>\n",
       "    </tr>\n",
       "    <tr>\n",
       "      <th>7492</th>\n",
       "      <td>burgers,salmon,pancakes,french fries,frozen sm...</td>\n",
       "    </tr>\n",
       "    <tr>\n",
       "      <th>7493</th>\n",
       "      <td>turkey,burgers,dessert wine,shrimp,pasta,tomat...</td>\n",
       "    </tr>\n",
       "    <tr>\n",
       "      <th>7495</th>\n",
       "      <td>butter,light mayo,fresh bread</td>\n",
       "    </tr>\n",
       "    <tr>\n",
       "      <th>7496</th>\n",
       "      <td>burgers,frozen vegetables,eggs,french fries,ma...</td>\n",
       "    </tr>\n",
       "    <tr>\n",
       "      <th>7499</th>\n",
       "      <td>eggs,frozen smoothie,yogurt cake,low fat yogurt</td>\n",
       "    </tr>\n",
       "  </tbody>\n",
       "</table>\n",
       "<p>5175 rows × 1 columns</p>\n",
       "</div>"
      ],
      "text/plain": [
       "     shrimp,almonds,avocado,vegetables mix,green grapes,whole weat flour,yams,cottage cheese,energy drink,tomato juice,low fat yogurt,green tea,honey,salad,mineral water,salmon,antioxydant juice,frozen smoothie,spinach,olive oil\n",
       "0                                burgers,meatballs,eggs                                                                                                                                                                             \n",
       "1                                               chutney                                                                                                                                                                             \n",
       "2                                        turkey,avocado                                                                                                                                                                             \n",
       "3     mineral water,milk,energy bar,whole wheat rice...                                                                                                                                                                             \n",
       "4                                        low fat yogurt                                                                                                                                                                             \n",
       "...                                                 ...                                                                                                                                                                             \n",
       "7492  burgers,salmon,pancakes,french fries,frozen sm...                                                                                                                                                                             \n",
       "7493  turkey,burgers,dessert wine,shrimp,pasta,tomat...                                                                                                                                                                             \n",
       "7495                      butter,light mayo,fresh bread                                                                                                                                                                             \n",
       "7496  burgers,frozen vegetables,eggs,french fries,ma...                                                                                                                                                                             \n",
       "7499    eggs,frozen smoothie,yogurt cake,low fat yogurt                                                                                                                                                                             \n",
       "\n",
       "[5175 rows x 1 columns]"
      ]
     },
     "execution_count": 11,
     "metadata": {},
     "output_type": "execute_result"
    }
   ],
   "source": [
    "# Droping duplicate values\n",
    "\n",
    "df.drop_duplicates()\n"
   ]
  },
  {
   "cell_type": "markdown",
   "id": "0fd220df",
   "metadata": {},
   "source": [
    "# Association Rule Mining:"
   ]
  },
  {
   "cell_type": "code",
   "execution_count": 12,
   "id": "83b4708f",
   "metadata": {},
   "outputs": [],
   "source": [
    "data = [\n",
    "    \"shrimp,almonds,avocado,vegetables mix,green grapes,whole wheat flour,yams,cottage cheese,energy drink,tomato juice,low fat yogurt,green tea,honey,salad,mineral water,salmon,antioxidant juice,frozen smoothie,spinach,olive oil\",\n",
    "    \"burgers,meatballs,eggs\",\n",
    "    \"chutney\",\n",
    "    \"turkey,avocado\",\n",
    "    \"mineral water,milk,energy bar,whole wheat rice\",\n",
    "    \"low fat yogurt\"\n",
    "]"
   ]
  },
  {
   "cell_type": "code",
   "execution_count": 13,
   "id": "e3a73fce",
   "metadata": {},
   "outputs": [],
   "source": [
    "# Convert the string data to a list of transactions\n",
    "transactions = [transaction.split(',') for transaction in data]\n"
   ]
  },
  {
   "cell_type": "code",
   "execution_count": 14,
   "id": "a6caa8e7",
   "metadata": {},
   "outputs": [],
   "source": [
    "# Convert data into the required format using TransactionEncoder\n",
    "te = TransactionEncoder()\n",
    "te_ary = te.fit(data).transform(data)\n",
    "\n"
   ]
  },
  {
   "cell_type": "code",
   "execution_count": 20,
   "id": "5403399e",
   "metadata": {},
   "outputs": [],
   "source": [
    "df_trans = pd.DataFrame(te_ary, columns=te.columns_)\n"
   ]
  },
  {
   "cell_type": "code",
   "execution_count": 21,
   "id": "4cf2600a",
   "metadata": {},
   "outputs": [
    {
     "data": {
      "text/html": [
       "<div>\n",
       "<style scoped>\n",
       "    .dataframe tbody tr th:only-of-type {\n",
       "        vertical-align: middle;\n",
       "    }\n",
       "\n",
       "    .dataframe tbody tr th {\n",
       "        vertical-align: top;\n",
       "    }\n",
       "\n",
       "    .dataframe thead th {\n",
       "        text-align: right;\n",
       "    }\n",
       "</style>\n",
       "<table border=\"1\" class=\"dataframe\">\n",
       "  <thead>\n",
       "    <tr style=\"text-align: right;\">\n",
       "      <th></th>\n",
       "      <th></th>\n",
       "      <th>,</th>\n",
       "      <th>a</th>\n",
       "      <th>b</th>\n",
       "      <th>c</th>\n",
       "      <th>d</th>\n",
       "      <th>e</th>\n",
       "      <th>f</th>\n",
       "      <th>g</th>\n",
       "      <th>h</th>\n",
       "      <th>...</th>\n",
       "      <th>p</th>\n",
       "      <th>r</th>\n",
       "      <th>s</th>\n",
       "      <th>t</th>\n",
       "      <th>u</th>\n",
       "      <th>v</th>\n",
       "      <th>w</th>\n",
       "      <th>x</th>\n",
       "      <th>y</th>\n",
       "      <th>z</th>\n",
       "    </tr>\n",
       "  </thead>\n",
       "  <tbody>\n",
       "    <tr>\n",
       "      <th>0</th>\n",
       "      <td>True</td>\n",
       "      <td>True</td>\n",
       "      <td>True</td>\n",
       "      <td>True</td>\n",
       "      <td>True</td>\n",
       "      <td>True</td>\n",
       "      <td>True</td>\n",
       "      <td>True</td>\n",
       "      <td>True</td>\n",
       "      <td>True</td>\n",
       "      <td>...</td>\n",
       "      <td>True</td>\n",
       "      <td>True</td>\n",
       "      <td>True</td>\n",
       "      <td>True</td>\n",
       "      <td>True</td>\n",
       "      <td>True</td>\n",
       "      <td>True</td>\n",
       "      <td>True</td>\n",
       "      <td>True</td>\n",
       "      <td>True</td>\n",
       "    </tr>\n",
       "    <tr>\n",
       "      <th>1</th>\n",
       "      <td>False</td>\n",
       "      <td>True</td>\n",
       "      <td>True</td>\n",
       "      <td>True</td>\n",
       "      <td>False</td>\n",
       "      <td>False</td>\n",
       "      <td>True</td>\n",
       "      <td>False</td>\n",
       "      <td>True</td>\n",
       "      <td>False</td>\n",
       "      <td>...</td>\n",
       "      <td>False</td>\n",
       "      <td>True</td>\n",
       "      <td>True</td>\n",
       "      <td>True</td>\n",
       "      <td>True</td>\n",
       "      <td>False</td>\n",
       "      <td>False</td>\n",
       "      <td>False</td>\n",
       "      <td>False</td>\n",
       "      <td>False</td>\n",
       "    </tr>\n",
       "    <tr>\n",
       "      <th>2</th>\n",
       "      <td>False</td>\n",
       "      <td>False</td>\n",
       "      <td>False</td>\n",
       "      <td>False</td>\n",
       "      <td>True</td>\n",
       "      <td>False</td>\n",
       "      <td>True</td>\n",
       "      <td>False</td>\n",
       "      <td>False</td>\n",
       "      <td>True</td>\n",
       "      <td>...</td>\n",
       "      <td>False</td>\n",
       "      <td>False</td>\n",
       "      <td>False</td>\n",
       "      <td>True</td>\n",
       "      <td>True</td>\n",
       "      <td>False</td>\n",
       "      <td>False</td>\n",
       "      <td>False</td>\n",
       "      <td>True</td>\n",
       "      <td>False</td>\n",
       "    </tr>\n",
       "    <tr>\n",
       "      <th>3</th>\n",
       "      <td>False</td>\n",
       "      <td>True</td>\n",
       "      <td>True</td>\n",
       "      <td>False</td>\n",
       "      <td>True</td>\n",
       "      <td>True</td>\n",
       "      <td>True</td>\n",
       "      <td>False</td>\n",
       "      <td>False</td>\n",
       "      <td>False</td>\n",
       "      <td>...</td>\n",
       "      <td>False</td>\n",
       "      <td>True</td>\n",
       "      <td>False</td>\n",
       "      <td>True</td>\n",
       "      <td>True</td>\n",
       "      <td>True</td>\n",
       "      <td>False</td>\n",
       "      <td>False</td>\n",
       "      <td>True</td>\n",
       "      <td>False</td>\n",
       "    </tr>\n",
       "    <tr>\n",
       "      <th>4</th>\n",
       "      <td>True</td>\n",
       "      <td>True</td>\n",
       "      <td>True</td>\n",
       "      <td>True</td>\n",
       "      <td>True</td>\n",
       "      <td>False</td>\n",
       "      <td>True</td>\n",
       "      <td>False</td>\n",
       "      <td>True</td>\n",
       "      <td>True</td>\n",
       "      <td>...</td>\n",
       "      <td>False</td>\n",
       "      <td>True</td>\n",
       "      <td>False</td>\n",
       "      <td>True</td>\n",
       "      <td>False</td>\n",
       "      <td>False</td>\n",
       "      <td>True</td>\n",
       "      <td>False</td>\n",
       "      <td>True</td>\n",
       "      <td>False</td>\n",
       "    </tr>\n",
       "  </tbody>\n",
       "</table>\n",
       "<p>5 rows × 27 columns</p>\n",
       "</div>"
      ],
      "text/plain": [
       "              ,      a      b      c      d     e      f      g      h  ...  \\\n",
       "0   True   True   True   True   True   True  True   True   True   True  ...   \n",
       "1  False   True   True   True  False  False  True  False   True  False  ...   \n",
       "2  False  False  False  False   True  False  True  False  False   True  ...   \n",
       "3  False   True   True  False   True   True  True  False  False  False  ...   \n",
       "4   True   True   True   True   True  False  True  False   True   True  ...   \n",
       "\n",
       "       p      r      s     t      u      v      w      x      y      z  \n",
       "0   True   True   True  True   True   True   True   True   True   True  \n",
       "1  False   True   True  True   True  False  False  False  False  False  \n",
       "2  False  False  False  True   True  False  False  False   True  False  \n",
       "3  False   True  False  True   True   True  False  False   True  False  \n",
       "4  False   True  False  True  False  False   True  False   True  False  \n",
       "\n",
       "[5 rows x 27 columns]"
      ]
     },
     "execution_count": 21,
     "metadata": {},
     "output_type": "execute_result"
    }
   ],
   "source": [
    "df_trans.head()"
   ]
  },
  {
   "cell_type": "code",
   "execution_count": 15,
   "id": "e116ee55",
   "metadata": {},
   "outputs": [
    {
     "name": "stdout",
     "output_type": "stream",
     "text": [
      "       support   itemsets\n",
      "0     0.500000        ( )\n",
      "1     0.666667        (,)\n",
      "2     0.833333        (a)\n",
      "3     0.500000        (b)\n",
      "4     0.666667        (c)\n",
      "...        ...        ...\n",
      "1325  0.666667  (u, t, y)\n",
      "1326  0.333333  (t, v, y)\n",
      "1327  0.500000  (t, w, y)\n",
      "1328  0.333333  (u, v, y)\n",
      "1329  0.333333  (u, w, y)\n",
      "\n",
      "[1330 rows x 2 columns]\n"
     ]
    }
   ],
   "source": [
    "# Applying Apriori to find frequent itemsets\n",
    "\n",
    "frequent_itemsets = apriori(df_trans, min_support=0.3, use_colnames=True, max_len=3)\n",
    "\n",
    "\n",
    "# View the frequent itemsets\n",
    "print(frequent_itemsets)\n",
    "\n"
   ]
  },
  {
   "cell_type": "code",
   "execution_count": 16,
   "id": "b0304b70",
   "metadata": {},
   "outputs": [],
   "source": [
    "# Applying association rules\n",
    "\n",
    "rules = association_rules(frequent_itemsets, metric=\"lift\", min_threshold=1.2)\n"
   ]
  },
  {
   "cell_type": "code",
   "execution_count": 17,
   "id": "15518025",
   "metadata": {},
   "outputs": [
    {
     "name": "stdout",
     "output_type": "stream",
     "text": [
      "     antecedents consequents  antecedent support  consequent support  \\\n",
      "0            ( )         (a)            0.500000            0.833333   \n",
      "1            (a)         ( )            0.833333            0.500000   \n",
      "2            ( )         (b)            0.500000            0.500000   \n",
      "3            (b)         ( )            0.500000            0.500000   \n",
      "4            ( )         (f)            0.500000            0.333333   \n",
      "...          ...         ...                 ...                 ...   \n",
      "5221         (u)      (y, v)            0.833333            0.333333   \n",
      "5222         (v)      (u, y)            0.333333            0.666667   \n",
      "5223         (y)      (u, v)            0.833333            0.333333   \n",
      "5224      (u, w)         (y)            0.333333            0.833333   \n",
      "5225         (y)      (u, w)            0.833333            0.333333   \n",
      "\n",
      "       support  confidence      lift  leverage  conviction  zhangs_metric  \n",
      "0     0.500000    1.000000  1.200000  0.083333         inf       0.333333  \n",
      "1     0.500000    0.600000  1.200000  0.083333    1.250000       1.000000  \n",
      "2     0.333333    0.666667  1.333333  0.083333    1.500000       0.500000  \n",
      "3     0.333333    0.666667  1.333333  0.083333    1.500000       0.500000  \n",
      "4     0.333333    0.666667  2.000000  0.166667    2.000000       1.000000  \n",
      "...        ...         ...       ...       ...         ...            ...  \n",
      "5221  0.333333    0.400000  1.200000  0.055556    1.111111       1.000000  \n",
      "5222  0.333333    1.000000  1.500000  0.111111         inf       0.500000  \n",
      "5223  0.333333    0.400000  1.200000  0.055556    1.111111       1.000000  \n",
      "5224  0.333333    1.000000  1.200000  0.055556         inf       0.250000  \n",
      "5225  0.333333    0.400000  1.200000  0.055556    1.111111       1.000000  \n",
      "\n",
      "[5226 rows x 10 columns]\n"
     ]
    }
   ],
   "source": [
    "# Display the rules\n",
    "\n",
    "print(rules)"
   ]
  },
  {
   "cell_type": "code",
   "execution_count": 22,
   "id": "82dcc905",
   "metadata": {},
   "outputs": [
    {
     "name": "stdout",
     "output_type": "stream",
     "text": [
      "     antecedents consequents   support  confidence      lift\n",
      "0            ( )         (a)  0.500000    1.000000  1.200000\n",
      "1            (a)         ( )  0.500000    0.600000  1.200000\n",
      "2            ( )         (b)  0.333333    0.666667  1.333333\n",
      "3            (b)         ( )  0.333333    0.666667  1.333333\n",
      "4            ( )         (f)  0.333333    0.666667  2.000000\n",
      "...          ...         ...       ...         ...       ...\n",
      "5221         (u)      (y, v)  0.333333    0.400000  1.200000\n",
      "5222         (v)      (u, y)  0.333333    1.000000  1.500000\n",
      "5223         (y)      (u, v)  0.333333    0.400000  1.200000\n",
      "5224      (u, w)         (y)  0.333333    1.000000  1.200000\n",
      "5225         (y)      (u, w)  0.333333    0.400000  1.200000\n",
      "\n",
      "[5226 rows x 5 columns]\n"
     ]
    }
   ],
   "source": [
    "print(rules[['antecedents', 'consequents', 'support', 'confidence', 'lift']])"
   ]
  },
  {
   "cell_type": "markdown",
   "id": "bdd6cc41",
   "metadata": {},
   "source": [
    "# Analysis and Interpretation:"
   ]
  },
  {
   "cell_type": "markdown",
   "id": "e952e37f",
   "metadata": {},
   "source": [
    "Support Insights:\n",
    "\n",
    "High support values indicate products that are commonly purchased together. For example, if you find that \"avocado\" and \"shrimp\" have high support, it suggests that customers frequently buy these two items together.\n",
    "Confidence Insights:\n",
    "\n",
    "High confidence values indicate strong relationships. If a rule states that \"if a customer buys avocado, they are likely to buy shrimp\" with a confidence of 70%, it suggests that purchasing avocado significantly leads to purchasing shrimp. This could inform cross-promotional strategies.\n",
    "Lift Insights:\n",
    "\n",
    "A high lift value indicates a strong correlation. For instance, if the rule {\"avocado\"} -> {\"shrimp\"} has a lift of 2.5, it means that customers are 2.5 times more likely to buy shrimp when they purchase avocado than if they were buying without the presence of avocado. This suggests a strong affinity between these two products.\n",
    "Insights into Customer Purchasing Behavior\n",
    "Complementary Products: If certain products are frequently bought together, consider bundling them in promotions or cross-promotions. For instance, if salmon and green tea often appear together, consider offering discounts when customers purchase both.\n",
    "\n",
    "Customer Preferences: Understanding that customers who buy low fat yogurt also often buy energy drinks may indicate a trend towards health-conscious consumers looking for convenient, nutritious options.\n",
    "\n",
    "Targeted Marketing: If a specific rule shows that \"if customers buy mineral water, they are likely to buy yams,\" you can tailor marketing campaigns to target this customer segment with recipes or health benefits associated with both products.\n",
    "\n",
    "Seasonal Trends: Monitor how purchasing patterns change over time. If certain combinations of products spike during specific seasons (e.g., smoothies in summer), you can adjust inventory and marketing strategies accordingly."
   ]
  },
  {
   "cell_type": "code",
   "execution_count": null,
   "id": "4192595b",
   "metadata": {},
   "outputs": [],
   "source": []
  }
 ],
 "metadata": {
  "kernelspec": {
   "display_name": "Python 3 (ipykernel)",
   "language": "python",
   "name": "python3"
  },
  "language_info": {
   "codemirror_mode": {
    "name": "ipython",
    "version": 3
   },
   "file_extension": ".py",
   "mimetype": "text/x-python",
   "name": "python",
   "nbconvert_exporter": "python",
   "pygments_lexer": "ipython3",
   "version": "3.11.5"
  }
 },
 "nbformat": 4,
 "nbformat_minor": 5
}
